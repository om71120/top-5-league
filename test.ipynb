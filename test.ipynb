{
 "cells": [
  {
   "cell_type": "code",
   "execution_count": 1,
   "metadata": {},
   "outputs": [
    {
     "name": "stdout",
     "output_type": "stream",
     "text": [
      "Index(['Country', 'Club', 'Player Names', 'Matches_Played', 'Substitution ',\n",
      "       'Mins', 'Goals', 'xG Per Avg Match', 'Shots', 'OnTarget',\n",
      "       'Shots Per Avg Match', 'On Target Per Avg Match', 'Year'],\n",
      "      dtype='object')\n"
     ]
    }
   ],
   "source": [
    "from ulits import process_new\n"
   ]
  },
  {
   "cell_type": "code",
   "execution_count": 4,
   "metadata": {},
   "outputs": [],
   "source": [
    "##new_data = [\"Brazil\", \"SAN\", \"Marinho\",17, 2, 1662, 13, 7.52, 0.43, 58, 26, 3.32, 2020]\n",
    "#df_new=pd.DataFrame([new_data])"
   ]
  },
  {
   "cell_type": "code",
   "execution_count": 5,
   "metadata": {},
   "outputs": [
    {
     "data": {
      "text/plain": [
       "<1x563 sparse matrix of type '<class 'numpy.float64'>'\n",
       "\twith 12 stored elements in Compressed Sparse Row format>"
      ]
     },
     "execution_count": 5,
     "metadata": {},
     "output_type": "execute_result"
    }
   ],
   "source": [
    "new_data =['Brazil' , 'SAN' , 'Marinho' , 17 , 2 , 1662 , 13 , 7.52 , 0.43 , 58 , 26 , 3.32 , 2020 ]\n",
    "process_new(x_new=new_data)"
   ]
  },
  {
   "cell_type": "code",
   "execution_count": null,
   "metadata": {},
   "outputs": [],
   "source": []
  },
  {
   "cell_type": "code",
   "execution_count": null,
   "metadata": {},
   "outputs": [],
   "source": []
  }
 ],
 "metadata": {
  "kernelspec": {
   "display_name": "fifa",
   "language": "python",
   "name": "python3"
  },
  "language_info": {
   "codemirror_mode": {
    "name": "ipython",
    "version": 3
   },
   "file_extension": ".py",
   "mimetype": "text/x-python",
   "name": "python",
   "nbconvert_exporter": "python",
   "pygments_lexer": "ipython3",
   "version": "3.9.13"
  }
 },
 "nbformat": 4,
 "nbformat_minor": 2
}
